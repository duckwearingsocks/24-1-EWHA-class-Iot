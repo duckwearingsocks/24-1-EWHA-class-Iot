{
  "nbformat": 4,
  "nbformat_minor": 0,
  "metadata": {
    "colab": {
      "provenance": [],
      "authorship_tag": "ABX9TyM7Q9v8Ehbp1qr3qiYsyepg",
      "include_colab_link": true
    },
    "kernelspec": {
      "name": "python3",
      "display_name": "Python 3"
    },
    "language_info": {
      "name": "python"
    }
  },
  "cells": [
    {
      "cell_type": "markdown",
      "metadata": {
        "id": "view-in-github",
        "colab_type": "text"
      },
      "source": [
        "<a href=\"https://colab.research.google.com/github/duckwearingsocks/24-1-EWHA-class-Iot/blob/main/240321_%EC%82%AC%EC%9D%B8%EA%B0%9C_%EA%B3%BC%EC%A0%9C1_%EA%B3%B5%EA%B3%B5%EC%9E%90%EC%A0%84%EA%B1%B0.ipynb\" target=\"_parent\"><img src=\"https://colab.research.google.com/assets/colab-badge.svg\" alt=\"Open In Colab\"/></a>"
      ]
    },
    {
      "cell_type": "code",
      "execution_count": 1,
      "metadata": {
        "colab": {
          "base_uri": "https://localhost:8080/"
        },
        "id": "mXSn6S0IFG1k",
        "outputId": "edac37d3-3a87-409a-b579-2788fb84e3b4"
      },
      "outputs": [
        {
          "output_type": "stream",
          "name": "stdout",
          "text": [
            "{'rentBikeStatus': {'list_total_count': 5, 'RESULT': {'CODE': 'INFO-000', 'MESSAGE': '정상 처리되었습니다.'}, 'row': [{'rackTotCnt': '15', 'stationName': '102. 망원역 1번출구 앞', 'parkingBikeTotCnt': '16', 'shared': '107', 'stationLatitude': '37.55564880', 'stationLongitude': '126.91062927', 'stationId': 'ST-4'}, {'rackTotCnt': '14', 'stationName': '103. 망원역 2번출구 앞', 'parkingBikeTotCnt': '16', 'shared': '114', 'stationLatitude': '37.55495071', 'stationLongitude': '126.91083527', 'stationId': 'ST-5'}, {'rackTotCnt': '13', 'stationName': '104. 합정역 1번출구 앞', 'parkingBikeTotCnt': '13', 'shared': '100', 'stationLatitude': '37.55073929', 'stationLongitude': '126.91508484', 'stationId': 'ST-6'}, {'rackTotCnt': '5', 'stationName': '105. 합정역 5번출구 앞', 'parkingBikeTotCnt': '19', 'shared': '380', 'stationLatitude': '37.55000687', 'stationLongitude': '126.91482544', 'stationId': 'ST-7'}, {'rackTotCnt': '12', 'stationName': '106. 합정역 7번출구 앞', 'parkingBikeTotCnt': '11', 'shared': '92', 'stationLatitude': '37.54864502', 'stationLongitude': '126.91282654', 'stationId': 'ST-8'}]}}\n"
          ]
        }
      ],
      "source": [
        "import requests\n",
        "url = 'http://openapi.seoul.go.kr:8088/6e6669757a646c673131357659504d77/json/bikeList/1/5/'\n",
        "r = requests.get(url)\n",
        "print(r.json())\n",
        "j = r.json()"
      ]
    },
    {
      "cell_type": "code",
      "source": [
        "for x in j['rentBikeStatus']['row'] :\n",
        "    print('위치 :', x['stationName'],' 대여 횟수:', x['shared'])"
      ],
      "metadata": {
        "colab": {
          "base_uri": "https://localhost:8080/"
        },
        "id": "-u7Lc25cMKb8",
        "outputId": "8c91068f-f6bd-4c7b-a0ac-16ea69c12d58"
      },
      "execution_count": 2,
      "outputs": [
        {
          "output_type": "stream",
          "name": "stdout",
          "text": [
            "위치 : 102. 망원역 1번출구 앞  대여 횟수: 107\n",
            "위치 : 103. 망원역 2번출구 앞  대여 횟수: 114\n",
            "위치 : 104. 합정역 1번출구 앞  대여 횟수: 100\n",
            "위치 : 105. 합정역 5번출구 앞  대여 횟수: 380\n",
            "위치 : 106. 합정역 7번출구 앞  대여 횟수: 92\n"
          ]
        }
      ]
    }
  ]
}