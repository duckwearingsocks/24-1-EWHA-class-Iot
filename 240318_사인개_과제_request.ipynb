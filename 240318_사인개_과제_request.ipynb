{
  "nbformat": 4,
  "nbformat_minor": 0,
  "metadata": {
    "colab": {
      "provenance": [],
      "authorship_tag": "ABX9TyMnyHYd/O9aLaxyt0EQAy7b",
      "include_colab_link": true
    },
    "kernelspec": {
      "name": "python3",
      "display_name": "Python 3"
    },
    "language_info": {
      "name": "python"
    }
  },
  "cells": [
    {
      "cell_type": "markdown",
      "metadata": {
        "id": "view-in-github",
        "colab_type": "text"
      },
      "source": [
        "<a href=\"https://colab.research.google.com/github/duckwearingsocks/24-1-EWHA-class-Iot/blob/main/240318_%EC%82%AC%EC%9D%B8%EA%B0%9C_%EA%B3%BC%EC%A0%9C_request.ipynb\" target=\"_parent\"><img src=\"https://colab.research.google.com/assets/colab-badge.svg\" alt=\"Open In Colab\"/></a>"
      ]
    },
    {
      "cell_type": "code",
      "execution_count": null,
      "metadata": {
        "colab": {
          "base_uri": "https://localhost:8080/"
        },
        "id": "J1HtBxlgSL9j",
        "outputId": "6cd9299b-532d-4c3a-b663-a692dea83f0c"
      },
      "outputs": [
        {
          "output_type": "stream",
          "name": "stdout",
          "text": [
            "<?xml version=\"1.0\" encoding=\"UTF-8\" standalone=\"yes\"?><data><code>SUCCESS</code><message>인증키가 유효합니다.</message><count>82</count><trafficAll><carType>2</carType><exDivCode>00</exDivCode><exDivName>도공</exDivName><sumDate>20240318</sumDate><sumTm>16</sumTm><tcsName>TCS</tcsName><tcsType>1</tcsType><tmName>1시간</tmName><tmType>1</tmType><trafficAmout>945</trafficAmout></trafficAll><trafficAll><carType>2</carType><exDivCode>00</exDivCode><exDivName>도공</exDivName><sumDate>20240318</sumDate><sumTm>16</sumTm><tcsName>hi-pass</tcsName><tcsType>2</tcsType><tmName>1시간</tmName><tmType>1</tmType><trafficAmout>6573</trafficAmout></trafficAll><trafficAll><carType>4</carType><exDivCode>00</exDivCode><exDivName>도공</exDivName><sumDate>20240318</sumDate><sumTm>16</sumTm><tcsName>TCS</tcsName><tcsType>1</tcsType><tmName>1시간</tmName><tmType>1</tmType><trafficAmout>2156</trafficAmout></trafficAll><trafficAll><carType>4</carType><exDivCode>00</exDivCode><exDivName>도공</exDivName><sumDate>20240318</sumDate><sumTm>16</sumTm><tcsName>hi-pass</tcsName><tcsType>2</tcsType><tmName>1시간</tmName><tmType>1</tmType><trafficAmout>5277</trafficAmout></trafficAll><trafficAll><carType>3</carType><exDivCode>01</exDivCode><exDivName>민자</exDivName><sumDate>20240318</sumDate><sumTm>16</sumTm><tcsName>TCS</tcsName><tcsType>1</tcsType><tmName>1시간</tmName><tmType>1</tmType><trafficAmout>72</trafficAmout></trafficAll><trafficAll><carType>3</carType><exDivCode>01</exDivCode><exDivName>민자</exDivName><sumDate>20240318</sumDate><sumTm>16</sumTm><tcsName>hi-pass</tcsName><tcsType>2</tcsType><tmName>1시간</tmName><tmType>1</tmType><trafficAmout>177</trafficAmout></trafficAll><trafficAll><carType>1</carType><exDivCode>18</exDivCode><exDivName>민자</exDivName><sumDate>20240318</sumDate><sumTm>16</sumTm><tcsName>TCS</tcsName><tcsType>1</tcsType><tmName>1시간</tmName><tmType>1</tmType><trafficAmout>225</trafficAmout></trafficAll><trafficAll><carType>1</carType><exDivCode>18</exDivCode><exDivName>민자</exDivName><sumDate>20240318</sumDate><sumTm>16</sumTm><tcsName>hi-pass</tcsName><tcsType>2</tcsType><tmName>1시간</tmName><tmType>1</tmType><trafficAmout>1509</trafficAmout></trafficAll><trafficAll><carType>6</carType><exDivCode>11</exDivCode><exDivName>민자</exDivName><sumDate>20240318</sumDate><sumTm>16</sumTm><tcsName>TCS</tcsName><tcsType>1</tcsType><tmName>1시간</tmName><tmType>1</tmType><trafficAmout>50</trafficAmout></trafficAll><trafficAll><carType>6</carType><exDivCode>11</exDivCode><exDivName>민자</exDivName><sumDate>20240318</sumDate><sumTm>16</sumTm><tcsName>hi-pass</tcsName><tcsType>2</tcsType><tmName>1시간</tmName><tmType>1</tmType><trafficAmout>60</trafficAmout></trafficAll><trafficAll><carType>3</carType><exDivCode>08</exDivCode><exDivName>민자</exDivName><sumDate>20240318</sumDate><sumTm>16</sumTm><tcsName>TCS</tcsName><tcsType>1</tcsType><tmName>1시간</tmName><tmType>1</tmType><trafficAmout>119</trafficAmout></trafficAll><trafficAll><carType>3</carType><exDivCode>08</exDivCode><exDivName>민자</exDivName><sumDate>20240318</sumDate><sumTm>16</sumTm><tcsName>hi-pass</tcsName><tcsType>2</tcsType><tmName>1시간</tmName><tmType>1</tmType><trafficAmout>74</trafficAmout></trafficAll><trafficAll><carType>2</carType><exDivCode>10</exDivCode><exDivName>민자</exDivName><sumDate>20240318</sumDate><sumTm>16</sumTm><tcsName>hi-pass</tcsName><tcsType>2</tcsType><tmName>1시간</tmName><tmType>1</tmType><trafficAmout>27</trafficAmout></trafficAll><trafficAll><carType>3</carType><exDivCode>10</exDivCode><exDivName>민자</exDivName><sumDate>20240318</sumDate><sumTm>16</sumTm><tcsName>TCS</tcsName><tcsType>1</tcsType><tmName>1시간</tmName><tmType>1</tmType><trafficAmout>18</trafficAmout></trafficAll><trafficAll><carType>5</carType><exDivCode>02</exDivCode><exDivName>민자</exDivName><sumDate>20240318</sumDate><sumTm>16</sumTm><tcsName>TCS</tcsName><tcsType>1</tcsType><tmName>1시간</tmName><tmType>1</tmType><trafficAmout>18</trafficAmout></trafficAll><trafficAll><carType>5</carType><exDivCode>02</exDivCode><exDivName>민자</exDivName><sumDate>20240318</sumDate><sumTm>16</sumTm><tcsName>hi-pass</tcsName><tcsType>2</tcsType><tmName>1시간</tmName><tmType>1</tmType><trafficAmout>259</trafficAmout></trafficAll><trafficAll><carType>1</carType><exDivCode>08</exDivCode><exDivName>민자</exDivName><sumDate>20240318</sumDate><sumTm>16</sumTm><tcsName>TCS</tcsName><tcsType>1</tcsType><tmName>1시간</tmName><tmType>1</tmType><trafficAmout>609</trafficAmout></trafficAll><trafficAll><carType>1</carType><exDivCode>08</exDivCode><exDivName>민자</exDivName><sumDate>20240318</sumDate><sumTm>16</sumTm><tcsName>hi-pass</tcsName><tcsType>2</tcsType><tmName>1시간</tmName><tmType>1</tmType><trafficAmout>1971</trafficAmout></trafficAll><trafficAll><carType>1</carType><exDivCode>10</exDivCode><exDivName>민자</exDivName><sumDate>20240318</sumDate><sumTm>16</sumTm><tcsName>TCS</tcsName><tcsType>1</tcsType><tmName>1시간</tmName><tmType>1</tmType><trafficAmout>264</trafficAmout></trafficAll><trafficAll><carType>1</carType><exDivCode>10</exDivCode><exDivName>민자</exDivName><sumDate>20240318</sumDate><sumTm>16</sumTm><tcsName>hi-pass</tcsName><tcsType>2</tcsType><tmName>1시간</tmName><tmType>1</tmType><trafficAmout>1675</trafficAmout></trafficAll><trafficAll><carType>4</carType><exDivCode>11</exDivCode><exDivName>민자</exDivName><sumDate>20240318</sumDate><sumTm>16</sumTm><tcsName>hi-pass</tcsName><tcsType>2</tcsType><tmName>1시간</tmName><tmType>1</tmType><trafficAmout>16</trafficAmout></trafficAll><trafficAll><carType>5</carType><exDivCode>11</exDivCode><exDivName>민자</exDivName><sumDate>20240318</sumDate><sumTm>16</sumTm><tcsName>hi-pass</tcsName><tcsType>2</tcsType><tmName>1시간</tmName><tmType>1</tmType><trafficAmout>17</trafficAmout></trafficAll><trafficAll><carType>3</carType><exDivCode>18</exDivCode><exDivName>민자</exDivName><sumDate>20240318</sumDate><sumTm>16</sumTm><tcsName>TCS</tcsName><tcsType>1</tcsType><tmName>1시간</tmName><tmType>1</tmType><trafficAmout>94</trafficAmout></trafficAll><trafficAll><carType>3</carType><exDivCode>18</exDivCode><exDivName>민자</exDivName><sumDate>20240318</sumDate><sumTm>16</sumTm><tcsName>hi-pass</tcsName><tcsType>2</tcsType><tmName>1시간</tmName><tmType>1</tmType><trafficAmout>196</trafficAmout></trafficAll><trafficAll><carType>5</carType><exDivCode>10</exDivCode><exDivName>민자</exDivName><sumDate>20240318</sumDate><sumTm>16</sumTm><tcsName>hi-pass</tcsName><tcsType>2</tcsType><tmName>1시간</tmName><tmType>1</tmType><trafficAmout>24</trafficAmout></trafficAll><trafficAll><carType>6</carType><exDivCode>10</exDivCode><exDivName>민자</exDivName><sumDate>20240318</sumDate><sumTm>16</sumTm><tcsName>TCS</tcsName><tcsType>1</tcsType><tmName>1시간</tmName><tmType>1</tmType><trafficAmout>13</trafficAmout></trafficAll><trafficAll><carType>2</carType><exDivCode>18</exDivCode><exDivName>민자</exDivName><sumDate>20240318</sumDate><sumTm>16</sumTm><tcsName>TCS</tcsName><tcsType>1</tcsType><tmName>1시간</tmName><tmType>1</tmType><trafficAmout>16</trafficAmout></trafficAll><trafficAll><carType>2</carType><exDivCode>18</exDivCode><exDivName>민자</exDivName><sumDate>20240318</sumDate><sumTm>16</sumTm><tcsName>hi-pass</tcsName><tcsType>2</tcsType><tmName>1시간</tmName><tmType>1</tmType><trafficAmout>104</trafficAmout></trafficAll><trafficAll><carType>3</carType><exDivCode>10</exDivCode><exDivName>민자</exDivName><sumDate>20240318</sumDate><sumTm>16</sumTm><tcsName>hi-pass</tcsName><tcsType>2</tcsType><tmName>1시간</tmName><tmType>1</tmType><trafficAmout>32</trafficAmout></trafficAll><trafficAll><carType>4</carType><exDivCode>10</exDivCode><exDivName>민자</exDivName><sumDate>20240318</sumDate><sumTm>16</sumTm><tcsName>TCS</tcsName><tcsType>1</tcsType><tmName>1시간</tmName><tmType>1</tmType><trafficAmout>7</trafficAmout></trafficAll><trafficAll><carType>2</carType><exDivCode>11</exDivCode><exDivName>민자</exDivName><sumDate>20240318</sumDate><sumTm>16</sumTm><tcsName>hi-pass</tcsName><tcsType>2</tcsType><tmName>1시간</tmName><tmType>1</tmType><trafficAmout>23</trafficAmout></trafficAll><trafficAll><carType>3</carType><exDivCode>11</exDivCode><exDivName>민자</exDivName><sumDate>20240318</sumDate><sumTm>16</sumTm><tcsName>TCS</tcsName><tcsType>1</tcsType><tmName>1시간</tmName><tmType>1</tmType><trafficAmout>70</trafficAmout></trafficAll><trafficAll><carType>4</carType><exDivCode>18</exDivCode><exDivName>민자</exDivName><sumDate>20240318</sumDate><sumTm>16</sumTm><tcsName>TCS</tcsName><tcsType>1</tcsType><tmName>1시간</tmName><tmType>1</tmType><trafficAmout>42</trafficAmout></trafficAll><trafficAll><carType>4</carType><exDivCode>18</exDivCode><exDivName>민자</exDivName><sumDate>20240318</sumDate><sumTm>16</sumTm><tcsName>hi-pass</tcsName><tcsType>2</tcsType><tmName>1시간</tmName><tmType>1</tmType><trafficAmout>98</trafficAmout></trafficAll><trafficAll><carType>4</carType><exDivCode>10</exDivCode><exDivName>민자</exDivName><sumDate>20240318</sumDate><sumTm>16</sumTm><tcsName>hi-pass</tcsName><tcsType>2</tcsType><tmName>1시간</tmName><tmType>1</tmType><trafficAmout>9</trafficAmout></trafficAll><trafficAll><carType>5</carType><exDivCode>10</exDivCode><exDivName>민자</exDivName><sumDate>20240318</sumDate><sumTm>16</sumTm><tcsName>TCS</tcsName><tcsType>1</tcsType><tmName>1시간</tmName><tmType>1</tmType><trafficAmout>2</trafficAmout></trafficAll><trafficAll><carType>3</carType><exDivCode>11</exDivCode><exDivName>민자</exDivName><sumDate>20240318</sumDate><sumTm>16</sumTm><tcsName>hi-pass</tcsName><tcsType>2</tcsType><tmName>1시간</tmName><tmType>1</tmType><trafficAmout>47</trafficAmout></trafficAll><trafficAll><carType>4</carType><exDivCode>11</exDivCode><exDivName>민자</exDivName><sumDate>20240318</sumDate><sumTm>16</sumTm><tcsName>TCS</tcsName><tcsType>1</tcsType><tmName>1시간</tmName><tmType>1</tmType><trafficAmout>59</trafficAmout></trafficAll><trafficAll><carType>6</carType><exDivCode>02</exDivCode><exDivName>민자</exDivName><sumDate>20240318</sumDate><sumTm>16</sumTm><tcsName>TCS</tcsName><tcsType>1</tcsType><tmName>1시간</tmName><tmType>1</tmType><trafficAmout>58</trafficAmout></trafficAll><trafficAll><carType>6</carType><exDivCode>02</exDivCode><exDivName>민자</exDivName><sumDate>20240318</sumDate><sumTm>16</sumTm><tcsName>hi-pass</tcsName><tcsType>2</tcsType><tmName>1시간</tmName><tmType>1</tmType><trafficAmout>140</trafficAmout></trafficAll><trafficAll><carType>5</carType><exDivCode>08</exDivCode><exDivName>민자</exDivName><sumDate>20240318</sumDate><sumTm>16</sumTm><tcsName>TCS</tcsName><tcsType>1</tcsType><tmName>1시간</tmName><tmType>1</tmType><trafficAmout>53</trafficAmout></trafficAll><trafficAll><carType>5</carType><exDivCode>08</exDivCode><exDivName>민자</exDivName><sumDate>20240318</sumDate><sumTm>16</sumTm><tcsName>hi-pass</tcsName><tcsType>2</tcsType><tmName>1시간</tmName><tmType>1</tmType><trafficAmout>237</trafficAmout></trafficAll><trafficAll><carType>6</carType><exDivCode>10</exDivCode><exDivName>민자</exDivName><sumDate>20240318</sumDate><sumTm>16</sumTm><tcsName>hi-pass</tcsName><tcsType>2</tcsType><tmName>1시간</tmName><tmType>1</tmType><trafficAmout>71</trafficAmout></trafficAll><trafficAll><carType>1</carType><exDivCode>11</exDivCode><exDivName>민자</exDivName><sumDate>20240318</sumDate><sumTm>16</sumTm><tcsName>TCS</tcsName><tcsType>1</tcsType><tmName>1시간</tmName><tmType>1</tmType><trafficAmout>278</trafficAmout></trafficAll><trafficAll><carType>4</carType><exDivCode>08</exDivCode><exDivName>민자</exDivName><sumDate>20240318</sumDate><sumTm>16</sumTm><tcsName>TCS</tcsName><tcsType>1</tcsType><tmName>1시간</tmName><tmType>1</tmType><trafficAmout>106</trafficAmout></trafficAll><trafficAll><carType>4</carType><exDivCode>08</exDivCode><exDivName>민자</exDivName><sumDate>20240318</sumDate><sumTm>16</sumTm><tcsName>hi-pass</tcsName><tcsType>2</tcsType><tmName>1시간</tmName><tmType>1</tmType><trafficAmout>54</trafficAmout></trafficAll><trafficAll><carType>6</carType><exDivCode>00</exDivCode><exDivName>도공</exDivName><sumDate>20240318</sumDate><sumTm>16</sumTm><tcsName>TCS</tcsName><tcsType>1</tcsType><tmName>1시간</tmName><tmType>1</tmType><trafficAmout>2954</trafficAmout></trafficAll><trafficAll><carType>6</carType><exDivCode>00</exDivCode><exDivName>도공</exDivName><sumDate>20240318</sumDate><sumTm>16</sumTm><tcsName>hi-pass</tcsName><tcsType>2</tcsType><tmName>1시간</tmName><tmType>1</tmType><trafficAmout>11283</trafficAmout></trafficAll><trafficAll><carType>1</carType><exDivCode>02</exDivCode><exDivName>민자</exDivName><sumDate>20240318</sumDate><sumTm>16</sumTm><tcsName>TCS</tcsName><tcsType>1</tcsType><tmName>1시간</tmName><tmType>1</tmType><trafficAmout>591</trafficAmout></trafficAll><trafficAll><carType>1</carType><exDivCode>02</exDivCode><exDivName>민자</exDivName><sumDate>20240318</sumDate><sumTm>16</sumTm><tcsName>hi-pass</tcsName><tcsType>2</tcsType><tmName>1시간</tmName><tmType>1</tmType><trafficAmout>3832</trafficAmout></trafficAll><trafficAll><carType>1</carType><exDivCode>00</exDivCode><exDivName>도공</exDivName><sumDate>20240318</sumDate><sumTm>16</sumTm><tcsName>TCS</tcsName><tcsType>1</tcsType><tmName>1시간</tmName><tmType>1</tmType><trafficAmout>21097</trafficAmout></trafficAll><trafficAll><carType>1</carType><exDivCode>00</exDivCode><exDivName>도공</exDivName><sumDate>20240318</sumDate><sumTm>16</sumTm><tcsName>hi-pass</tcsName><tcsType>2</tcsType><tmName>1시간</tmName><tmType>1</tmType><trafficAmout>224036</trafficAmout></trafficAll><trafficAll><carType>5</carType><exDivCode>00</exDivCode><exDivName>도공</exDivName><sumDate>20240318</sumDate><sumTm>16</sumTm><tcsName>TCS</tcsName><tcsType>1</tcsType><tmName>1시간</tmName><tmType>1</tmType><trafficAmout>665</trafficAmout></trafficAll><trafficAll><carType>5</carType><exDivCode>00</exDivCode><exDivName>도공</exDivName><sumDate>20240318</sumDate><sumTm>16</sumTm><tcsName>hi-pass</tcsName><tcsType>2</tcsType><tmName>1시간</tmName><tmType>1</tmType><trafficAmout>9633</trafficAmout></trafficAll><trafficAll><carType>2</carType><exDivCode>01</exDivCode><exDivName>민자</exDivName><sumDate>20240318</sumDate><sumTm>16</sumTm><tcsName>TCS</tcsName><tcsType>1</tcsType><tmName>1시간</tmName><tmType>1</tmType><trafficAmout>7</trafficAmout></trafficAll><trafficAll><carType>2</carType><exDivCode>01</exDivCode><exDivName>민자</exDivName><sumDate>20240318</sumDate><sumTm>16</sumTm><tcsName>hi-pass</tcsName><tcsType>2</tcsType><tmName>1시간</tmName><tmType>1</tmType><trafficAmout>81</trafficAmout></trafficAll><trafficAll><carType>4</carType><exDivCode>01</exDivCode><exDivName>민자</exDivName><sumDate>20240318</sumDate><sumTm>16</sumTm><tcsName>TCS</tcsName><tcsType>1</tcsType><tmName>1시간</tmName><tmType>1</tmType><trafficAmout>42</trafficAmout></trafficAll><trafficAll><carType>4</carType><exDivCode>01</exDivCode><exDivName>민자</exDivName><sumDate>20240318</sumDate><sumTm>16</sumTm><tcsName>hi-pass</tcsName><tcsType>2</tcsType><tmName>1시간</tmName><tmType>1</tmType><trafficAmout>146</trafficAmout></trafficAll><trafficAll><carType>2</carType><exDivCode>02</exDivCode><exDivName>민자</exDivName><sumDate>20240318</sumDate><sumTm>16</sumTm><tcsName>TCS</tcsName><tcsType>1</tcsType><tmName>1시간</tmName><tmType>1</tmType><trafficAmout>46</trafficAmout></trafficAll><trafficAll><carType>2</carType><exDivCode>02</exDivCode><exDivName>민자</exDivName><sumDate>20240318</sumDate><sumTm>16</sumTm><tcsName>hi-pass</tcsName><tcsType>2</tcsType><tmName>1시간</tmName><tmType>1</tmType><trafficAmout>123</trafficAmout></trafficAll><trafficAll><carType>2</carType><exDivCode>08</exDivCode><exDivName>민자</exDivName><sumDate>20240318</sumDate><sumTm>16</sumTm><tcsName>TCS</tcsName><tcsType>1</tcsType><tmName>1시간</tmName><tmType>1</tmType><trafficAmout>22</trafficAmout></trafficAll><trafficAll><carType>2</carType><exDivCode>08</exDivCode><exDivName>민자</exDivName><sumDate>20240318</sumDate><sumTm>16</sumTm><tcsName>hi-pass</tcsName><tcsType>2</tcsType><tmName>1시간</tmName><tmType>1</tmType><trafficAmout>48</trafficAmout></trafficAll><trafficAll><carType>6</carType><exDivCode>08</exDivCode><exDivName>민자</exDivName><sumDate>20240318</sumDate><sumTm>16</sumTm><tcsName>TCS</tcsName><tcsType>1</tcsType><tmName>1시간</tmName><tmType>1</tmType><trafficAmout>82</trafficAmout></trafficAll><trafficAll><carType>6</carType><exDivCode>08</exDivCode><exDivName>민자</exDivName><sumDate>20240318</sumDate><sumTm>16</sumTm><tcsName>hi-pass</tcsName><tcsType>2</tcsType><tmName>1시간</tmName><tmType>1</tmType><trafficAmout>82</trafficAmout></trafficAll><trafficAll><carType>1</carType><exDivCode>11</exDivCode><exDivName>민자</exDivName><sumDate>20240318</sumDate><sumTm>16</sumTm><tcsName>hi-pass</tcsName><tcsType>2</tcsType><tmName>1시간</tmName><tmType>1</tmType><trafficAmout>1046</trafficAmout></trafficAll><trafficAll><carType>2</carType><exDivCode>11</exDivCode><exDivName>민자</exDivName><sumDate>20240318</sumDate><sumTm>16</sumTm><tcsName>TCS</tcsName><tcsType>1</tcsType><tmName>1시간</tmName><tmType>1</tmType><trafficAmout>9</trafficAmout></trafficAll><trafficAll><carType>5</carType><exDivCode>18</exDivCode><exDivName>민자</exDivName><sumDate>20240318</sumDate><sumTm>16</sumTm><tcsName>TCS</tcsName><tcsType>1</tcsType><tmName>1시간</tmName><tmType>1</tmType><trafficAmout>10</trafficAmout></trafficAll><trafficAll><carType>5</carType><exDivCode>18</exDivCode><exDivName>민자</exDivName><sumDate>20240318</sumDate><sumTm>16</sumTm><tcsName>hi-pass</tcsName><tcsType>2</tcsType><tmName>1시간</tmName><tmType>1</tmType><trafficAmout>171</trafficAmout></trafficAll><trafficAll><carType>6</carType><exDivCode>01</exDivCode><exDivName>민자</exDivName><sumDate>20240318</sumDate><sumTm>16</sumTm><tcsName>TCS</tcsName><tcsType>1</tcsType><tmName>1시간</tmName><tmType>1</tmType><trafficAmout>25</trafficAmout></trafficAll><trafficAll><carType>6</carType><exDivCode>01</exDivCode><exDivName>민자</exDivName><sumDate>20240318</sumDate><sumTm>16</sumTm><tcsName>hi-pass</tcsName><tcsType>2</tcsType><tmName>1시간</tmName><tmType>1</tmType><trafficAmout>85</trafficAmout></trafficAll><trafficAll><carType>3</carType><exDivCode>02</exDivCode><exDivName>민자</exDivName><sumDate>20240318</sumDate><sumTm>16</sumTm><tcsName>TCS</tcsName><tcsType>1</tcsType><tmName>1시간</tmName><tmType>1</tmType><trafficAmout>103</trafficAmout></trafficAll><trafficAll><carType>3</carType><exDivCode>02</exDivCode><exDivName>민자</exDivName><sumDate>20240318</sumDate><sumTm>16</sumTm><tcsName>hi-pass</tcsName><tcsType>2</tcsType><tmName>1시간</tmName><tmType>1</tmType><trafficAmout>81</trafficAmout></trafficAll><trafficAll><carType>5</carType><exDivCode>01</exDivCode><exDivName>민자</exDivName><sumDate>20240318</sumDate><sumTm>16</sumTm><tcsName>TCS</tcsName><tcsType>1</tcsType><tmName>1시간</tmName><tmType>1</tmType><trafficAmout>20</trafficAmout></trafficAll><trafficAll><carType>5</carType><exDivCode>01</exDivCode><exDivName>민자</exDivName><sumDate>20240318</sumDate><sumTm>16</sumTm><tcsName>hi-pass</tcsName><tcsType>2</tcsType><tmName>1시간</tmName><tmType>1</tmType><trafficAmout>214</trafficAmout></trafficAll><trafficAll><carType>4</carType><exDivCode>02</exDivCode><exDivName>민자</exDivName><sumDate>20240318</sumDate><sumTm>16</sumTm><tcsName>TCS</tcsName><tcsType>1</tcsType><tmName>1시간</tmName><tmType>1</tmType><trafficAmout>60</trafficAmout></trafficAll><trafficAll><carType>4</carType><exDivCode>02</exDivCode><exDivName>민자</exDivName><sumDate>20240318</sumDate><sumTm>16</sumTm><tcsName>hi-pass</tcsName><tcsType>2</tcsType><tmName>1시간</tmName><tmType>1</tmType><trafficAmout>124</trafficAmout></trafficAll><trafficAll><carType>3</carType><exDivCode>00</exDivCode><exDivName>도공</exDivName><sumDate>20240318</sumDate><sumTm>16</sumTm><tcsName>TCS</tcsName><tcsType>1</tcsType><tmName>1시간</tmName><tmType>1</tmType><trafficAmout>3198</trafficAmout></trafficAll><trafficAll><carType>3</carType><exDivCode>00</exDivCode><exDivName>도공</exDivName><sumDate>20240318</sumDate><sumTm>16</sumTm><tcsName>hi-pass</tcsName><tcsType>2</tcsType><tmName>1시간</tmName><tmType>1</tmType><trafficAmout>6170</trafficAmout></trafficAll><trafficAll><carType>1</carType><exDivCode>01</exDivCode><exDivName>민자</exDivName><sumDate>20240318</sumDate><sumTm>16</sumTm><tcsName>TCS</tcsName><tcsType>1</tcsType><tmName>1시간</tmName><tmType>1</tmType><trafficAmout>360</trafficAmout></trafficAll><trafficAll><carType>1</carType><exDivCode>01</exDivCode><exDivName>민자</exDivName><sumDate>20240318</sumDate><sumTm>16</sumTm><tcsName>hi-pass</tcsName><tcsType>2</tcsType><tmName>1시간</tmName><tmType>1</tmType><trafficAmout>3507</trafficAmout></trafficAll><trafficAll><carType>6</carType><exDivCode>18</exDivCode><exDivName>민자</exDivName><sumDate>20240318</sumDate><sumTm>16</sumTm><tcsName>TCS</tcsName><tcsType>1</tcsType><tmName>1시간</tmName><tmType>1</tmType><trafficAmout>43</trafficAmout></trafficAll><trafficAll><carType>6</carType><exDivCode>18</exDivCode><exDivName>민자</exDivName><sumDate>20240318</sumDate><sumTm>16</sumTm><tcsName>hi-pass</tcsName><tcsType>2</tcsType><tmName>1시간</tmName><tmType>1</tmType><trafficAmout>76</trafficAmout></trafficAll></data>\n"
          ]
        }
      ],
      "source": [
        "import requests\n",
        "url ='https://data.ex.co.kr/openapi/trafficapi/trafficAll?key=6153566779&type=xml'\n",
        "r = requests.get(url)\n",
        "print(r.text)"
      ]
    },
    {
      "cell_type": "code",
      "source": [
        "from bs4 import BeautifulSoup\n",
        "\n",
        "soup = BeautifulSoup(r.text, features='xml')"
      ],
      "metadata": {
        "id": "11-E-vK6WXGw"
      },
      "execution_count": null,
      "outputs": []
    },
    {
      "cell_type": "code",
      "source": [
        "soup.find_all('trafficAmout')"
      ],
      "metadata": {
        "id": "CWSXTywVWuOD",
        "colab": {
          "base_uri": "https://localhost:8080/"
        },
        "outputId": "3de2f7ff-f9ca-46d3-e352-01c67ad860c4"
      },
      "execution_count": null,
      "outputs": [
        {
          "output_type": "execute_result",
          "data": {
            "text/plain": [
              "[<trafficAmout>945</trafficAmout>,\n",
              " <trafficAmout>6573</trafficAmout>,\n",
              " <trafficAmout>2156</trafficAmout>,\n",
              " <trafficAmout>5277</trafficAmout>,\n",
              " <trafficAmout>72</trafficAmout>,\n",
              " <trafficAmout>177</trafficAmout>,\n",
              " <trafficAmout>225</trafficAmout>,\n",
              " <trafficAmout>1509</trafficAmout>,\n",
              " <trafficAmout>50</trafficAmout>,\n",
              " <trafficAmout>60</trafficAmout>,\n",
              " <trafficAmout>119</trafficAmout>,\n",
              " <trafficAmout>74</trafficAmout>,\n",
              " <trafficAmout>27</trafficAmout>,\n",
              " <trafficAmout>18</trafficAmout>,\n",
              " <trafficAmout>18</trafficAmout>,\n",
              " <trafficAmout>259</trafficAmout>,\n",
              " <trafficAmout>609</trafficAmout>,\n",
              " <trafficAmout>1971</trafficAmout>,\n",
              " <trafficAmout>264</trafficAmout>,\n",
              " <trafficAmout>1675</trafficAmout>,\n",
              " <trafficAmout>16</trafficAmout>,\n",
              " <trafficAmout>17</trafficAmout>,\n",
              " <trafficAmout>94</trafficAmout>,\n",
              " <trafficAmout>196</trafficAmout>,\n",
              " <trafficAmout>24</trafficAmout>,\n",
              " <trafficAmout>13</trafficAmout>,\n",
              " <trafficAmout>16</trafficAmout>,\n",
              " <trafficAmout>104</trafficAmout>,\n",
              " <trafficAmout>32</trafficAmout>,\n",
              " <trafficAmout>7</trafficAmout>,\n",
              " <trafficAmout>23</trafficAmout>,\n",
              " <trafficAmout>70</trafficAmout>,\n",
              " <trafficAmout>42</trafficAmout>,\n",
              " <trafficAmout>98</trafficAmout>,\n",
              " <trafficAmout>9</trafficAmout>,\n",
              " <trafficAmout>2</trafficAmout>,\n",
              " <trafficAmout>47</trafficAmout>,\n",
              " <trafficAmout>59</trafficAmout>,\n",
              " <trafficAmout>58</trafficAmout>,\n",
              " <trafficAmout>140</trafficAmout>,\n",
              " <trafficAmout>53</trafficAmout>,\n",
              " <trafficAmout>237</trafficAmout>,\n",
              " <trafficAmout>71</trafficAmout>,\n",
              " <trafficAmout>278</trafficAmout>,\n",
              " <trafficAmout>106</trafficAmout>,\n",
              " <trafficAmout>54</trafficAmout>,\n",
              " <trafficAmout>2954</trafficAmout>,\n",
              " <trafficAmout>11283</trafficAmout>,\n",
              " <trafficAmout>591</trafficAmout>,\n",
              " <trafficAmout>3832</trafficAmout>,\n",
              " <trafficAmout>21097</trafficAmout>,\n",
              " <trafficAmout>224036</trafficAmout>,\n",
              " <trafficAmout>665</trafficAmout>,\n",
              " <trafficAmout>9633</trafficAmout>,\n",
              " <trafficAmout>7</trafficAmout>,\n",
              " <trafficAmout>81</trafficAmout>,\n",
              " <trafficAmout>42</trafficAmout>,\n",
              " <trafficAmout>146</trafficAmout>,\n",
              " <trafficAmout>46</trafficAmout>,\n",
              " <trafficAmout>123</trafficAmout>,\n",
              " <trafficAmout>22</trafficAmout>,\n",
              " <trafficAmout>48</trafficAmout>,\n",
              " <trafficAmout>82</trafficAmout>,\n",
              " <trafficAmout>82</trafficAmout>,\n",
              " <trafficAmout>1046</trafficAmout>,\n",
              " <trafficAmout>9</trafficAmout>,\n",
              " <trafficAmout>10</trafficAmout>,\n",
              " <trafficAmout>171</trafficAmout>,\n",
              " <trafficAmout>25</trafficAmout>,\n",
              " <trafficAmout>85</trafficAmout>,\n",
              " <trafficAmout>103</trafficAmout>,\n",
              " <trafficAmout>81</trafficAmout>,\n",
              " <trafficAmout>20</trafficAmout>,\n",
              " <trafficAmout>214</trafficAmout>,\n",
              " <trafficAmout>60</trafficAmout>,\n",
              " <trafficAmout>124</trafficAmout>,\n",
              " <trafficAmout>3198</trafficAmout>,\n",
              " <trafficAmout>6170</trafficAmout>,\n",
              " <trafficAmout>360</trafficAmout>,\n",
              " <trafficAmout>3507</trafficAmout>,\n",
              " <trafficAmout>43</trafficAmout>,\n",
              " <trafficAmout>76</trafficAmout>]"
            ]
          },
          "metadata": {},
          "execution_count": 56
        }
      ]
    },
    {
      "cell_type": "code",
      "source": [
        "print('학번 =', 2344022, '이름 =', '이호경')"
      ],
      "metadata": {
        "colab": {
          "base_uri": "https://localhost:8080/"
        },
        "id": "R19aqStD2l-m",
        "outputId": "c7864027-9c7b-48f5-f747-99b59a4a5862"
      },
      "execution_count": null,
      "outputs": [
        {
          "output_type": "stream",
          "name": "stdout",
          "text": [
            "학번 = 2344022 이름 = 이호경\n"
          ]
        }
      ]
    }
  ]
}